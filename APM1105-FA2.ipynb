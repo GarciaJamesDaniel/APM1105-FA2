{
 "cells": [
  {
   "cell_type": "markdown",
   "id": "e2dd94e4",
   "metadata": {},
   "source": [
    "## 1. Write a Python function to multiply all the numbers in a list."
   ]
  },
  {
   "cell_type": "code",
   "execution_count": 23,
   "id": "3f20f974",
   "metadata": {},
   "outputs": [
    {
     "name": "stdout",
     "output_type": "stream",
     "text": [
      "6231528\n"
     ]
    }
   ],
   "source": [
    "import numpy as n \n",
    "a = [69, 71, 2, -53, -12]\n",
    "b =  n.prod(a)\n",
    "print(b)"
   ]
  },
  {
   "cell_type": "markdown",
   "id": "c9f09de7",
   "metadata": {},
   "source": [
    "## 2.  Write a function that draws a grid"
   ]
  },
  {
   "cell_type": "code",
   "execution_count": 21,
   "id": "8367f251",
   "metadata": {},
   "outputs": [
    {
     "name": "stdout",
     "output_type": "stream",
     "text": [
      "+ ~ ~ ~ ~ + ~ ~ ~ ~ + ~ ~ ~ ~ + ~ ~ ~ ~ +\n",
      ":         :         :         :         :\n",
      ":         :         :         :         :\n",
      ":         :         :         :         :\n",
      ":         :         :         :         :\n",
      "+ ~ ~ ~ ~ + ~ ~ ~ ~ + ~ ~ ~ ~ + ~ ~ ~ ~ +\n",
      ":         :         :         :         :\n",
      ":         :         :         :         :\n",
      ":         :         :         :         :\n",
      ":         :         :         :         :\n",
      "+ ~ ~ ~ ~ + ~ ~ ~ ~ + ~ ~ ~ ~ + ~ ~ ~ ~ +\n",
      ":         :         :         :         :\n",
      ":         :         :         :         :\n",
      ":         :         :         :         :\n",
      ":         :         :         :         :\n",
      "+ ~ ~ ~ ~ + ~ ~ ~ ~ + ~ ~ ~ ~ + ~ ~ ~ ~ +\n",
      ":         :         :         :         :\n",
      ":         :         :         :         :\n",
      ":         :         :         :         :\n",
      ":         :         :         :         :\n",
      "+ ~ ~ ~ ~ + ~ ~ ~ ~ + ~ ~ ~ ~ + ~ ~ ~ ~ +\n"
     ]
    }
   ],
   "source": [
    "def grid():\n",
    "    line = '+ ~ ~ ~ ~ + ~ ~ ~ ~ + ~ ~ ~ ~ + ~ ~ ~ ~ +'\n",
    "    space = ':         :         :         :         :'\n",
    "    print(line)\n",
    "    print(space)\n",
    "    print(space)\n",
    "    print(space)\n",
    "    print(space)\n",
    "    print(line)\n",
    "    print(space)\n",
    "    print(space)\n",
    "    print(space)\n",
    "    print(space)\n",
    "    print(line)\n",
    "    print(space)\n",
    "    print(space)\n",
    "    print(space)\n",
    "    print(space)\n",
    "    print(line)\n",
    "    print(space)\n",
    "    print(space)\n",
    "    print(space)\n",
    "    print(space)\n",
    "    print(line)\n",
    "\n",
    "grid()"
   ]
  }
 ],
 "metadata": {
  "kernelspec": {
   "display_name": "Python 3 (ipykernel)",
   "language": "python",
   "name": "python3"
  },
  "language_info": {
   "codemirror_mode": {
    "name": "ipython",
    "version": 3
   },
   "file_extension": ".py",
   "mimetype": "text/x-python",
   "name": "python",
   "nbconvert_exporter": "python",
   "pygments_lexer": "ipython3",
   "version": "3.9.13"
  }
 },
 "nbformat": 4,
 "nbformat_minor": 5
}
